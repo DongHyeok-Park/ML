{
  "nbformat": 4,
  "nbformat_minor": 0,
  "metadata": {
    "colab": {
      "name": "케라스딥러닝_report(6)(94.4).ipynb",
      "provenance": [],
      "collapsed_sections": []
    },
    "kernelspec": {
      "name": "python3",
      "display_name": "Python 3"
    },
    "language_info": {
      "name": "python"
    },
    "accelerator": "GPU"
  },
  "cells": [
    {
      "cell_type": "code",
      "metadata": {
        "id": "gR_Zkw4m6kmA"
      },
      "source": [
        "import tensorflow as tf\n",
        "from tensorflow import keras\n",
        "from keras import models\n",
        "from keras.layers import Dense, Flatten, Dropout, Conv2D, MaxPooling2D, BatchNormalization, SeparableConv2D\n",
        "import numpy as np\n",
        "from keras.callbacks import EarlyStopping\n",
        "from keras.preprocessing.image import ImageDataGenerator\n",
        "from sklearn.model_selection import train_test_split\n",
        "from keras.optimizers import Adam\n",
        "from matplotlib import pyplot as plt"
      ],
      "execution_count": null,
      "outputs": []
    },
    {
      "cell_type": "code",
      "metadata": {
        "id": "L-4Rj9W24a3V"
      },
      "source": [
        "fashion_mnist = keras.datasets.fashion_mnist\n",
        "\n",
        "(train_images, train_labels), (test_images, test_labels) = fashion_mnist.load_data()"
      ],
      "execution_count": null,
      "outputs": []
    },
    {
      "cell_type": "code",
      "metadata": {
        "colab": {
          "base_uri": "https://localhost:8080/"
        },
        "id": "ruCCuTWj9hBE",
        "outputId": "3f9d80d2-914b-435e-b490-5ffcb558ab25"
      },
      "source": [
        "print(train_images.shape, train_labels.shape)\n",
        "print(test_images.shape, test_labels.shape)"
      ],
      "execution_count": null,
      "outputs": [
        {
          "output_type": "stream",
          "text": [
            "(60000, 28, 28) (60000,)\n",
            "(10000, 28, 28) (10000,)\n"
          ],
          "name": "stdout"
        }
      ]
    },
    {
      "cell_type": "code",
      "metadata": {
        "id": "HvpXHpf0-T9o",
        "colab": {
          "base_uri": "https://localhost:8080/"
        },
        "outputId": "8b45e883-332d-424c-8e80-a9264cac6c2e"
      },
      "source": [
        "train_images = train_images.reshape(train_images.shape[0], 28, 28,1)\n",
        "test_images = test_images.reshape(test_images.shape[0], 28, 28,1)\n",
        "\n",
        "train_images = train_images.astype('float32') / 255.0\n",
        "test_images = test_images.astype('float32') / 255.0\n",
        "\n",
        "train_labels = keras.utils.to_categorical(train_labels, 10)\n",
        "test_labels = keras.utils.to_categorical(test_labels, 10)\n",
        "\n",
        "print(train_images.shape, test_images.shape)\n",
        "print(test_images.shape, test_labels.shape)"
      ],
      "execution_count": null,
      "outputs": [
        {
          "output_type": "stream",
          "text": [
            "(60000, 28, 28, 1) (10000, 28, 28, 1)\n",
            "(10000, 28, 28, 1) (10000, 10)\n"
          ],
          "name": "stdout"
        }
      ]
    },
    {
      "cell_type": "code",
      "metadata": {
        "colab": {
          "base_uri": "https://localhost:8080/"
        },
        "id": "l1Fa8H2mSW1o",
        "outputId": "dc95b279-f88e-4aae-94c6-e20d2802a028"
      },
      "source": [
        "Train_images, val_images, Train_labels,  val_labels = train_test_split(train_images, train_labels, train_size = 0.8)\n",
        "\n",
        "print('train :', Train_images.shape, Train_labels.shape)\n",
        "print('val :', val_images.shape, val_labels.shape)\n",
        "print('test :', test_images.shape, test_labels.shape)"
      ],
      "execution_count": null,
      "outputs": [
        {
          "output_type": "stream",
          "text": [
            "train : (48000, 28, 28, 1) (48000, 10)\n",
            "val : (12000, 28, 28, 1) (12000, 10)\n",
            "test : (10000, 28, 28, 1) (10000, 10)\n"
          ],
          "name": "stdout"
        }
      ]
    },
    {
      "cell_type": "code",
      "metadata": {
        "id": "-cd0BYt29XvI"
      },
      "source": [
        "augmentation_generator = ImageDataGenerator(\n",
        "    rotation_range = 10, width_shift_range = 0.1, height_shift_range = 0.1, shear_range = 0.5, zoom_range = 0.3,\n",
        "    horizontal_flip = True)\n",
        "\n",
        "augmentation_generator.fit(Train_images)"
      ],
      "execution_count": null,
      "outputs": []
    },
    {
      "cell_type": "code",
      "metadata": {
        "colab": {
          "base_uri": "https://localhost:8080/"
        },
        "id": "UYZP6E6i71_i",
        "outputId": "ec5254d3-8d43-4289-f416-025e544bd934"
      },
      "source": [
        "model = models.Sequential()\n",
        "\n",
        "model.add(Conv2D(64, kernel_size=(3,3), activation = 'relu', padding = 'same', kernel_initializer= 'he_normal', input_shape = (28,28,1)))\n",
        "model.add(BatchNormalization())\n",
        "model.add(Conv2D(64, kernel_size=(3,3), activation = 'relu', padding = 'same'))\n",
        "model.add(BatchNormalization())\n",
        "model.add(MaxPooling2D(pool_size = (2,2)))\n",
        "model.add(Dropout(0.35))\n",
        "\n",
        "model.add(Conv2D(128, kernel_size=(3,3), activation = 'relu', padding = 'same', kernel_initializer= 'he_normal'))\n",
        "model.add(BatchNormalization())\n",
        "model.add(Conv2D(128, kernel_size=(3,3), activation = 'relu', padding = 'same'))\n",
        "model.add(BatchNormalization())\n",
        "model.add(MaxPooling2D(pool_size = (2,2)))\n",
        "model.add(Dropout(0.35))\n",
        "\n",
        "model.add(Conv2D(256, kernel_size=(3,3), activation = 'relu', padding = 'same', kernel_initializer= 'he_normal'))\n",
        "model.add(BatchNormalization())\n",
        "model.add(Conv2D(256, kernel_size=(3,3), activation = 'relu', padding = 'same'))\n",
        "model.add(BatchNormalization())\n",
        "model.add(MaxPooling2D(pool_size = (2,2)))\n",
        "model.add(Dropout(0.35))\n",
        "\n",
        "model.add(Flatten())\n",
        "\n",
        "model.add(Dense(2048, activation = 'relu'))\n",
        "model.add(Dropout(0.35))\n",
        "model.add(Dense(512, activation = 'relu'))\n",
        "model.add(Dense(10, activation = 'softmax'))\n",
        "\n",
        "model.summary()\n"
      ],
      "execution_count": null,
      "outputs": [
        {
          "output_type": "stream",
          "text": [
            "Model: \"sequential\"\n",
            "_________________________________________________________________\n",
            "Layer (type)                 Output Shape              Param #   \n",
            "=================================================================\n",
            "conv2d (Conv2D)              (None, 28, 28, 64)        640       \n",
            "_________________________________________________________________\n",
            "batch_normalization (BatchNo (None, 28, 28, 64)        256       \n",
            "_________________________________________________________________\n",
            "conv2d_1 (Conv2D)            (None, 28, 28, 64)        36928     \n",
            "_________________________________________________________________\n",
            "batch_normalization_1 (Batch (None, 28, 28, 64)        256       \n",
            "_________________________________________________________________\n",
            "max_pooling2d (MaxPooling2D) (None, 14, 14, 64)        0         \n",
            "_________________________________________________________________\n",
            "dropout (Dropout)            (None, 14, 14, 64)        0         \n",
            "_________________________________________________________________\n",
            "conv2d_2 (Conv2D)            (None, 14, 14, 128)       73856     \n",
            "_________________________________________________________________\n",
            "batch_normalization_2 (Batch (None, 14, 14, 128)       512       \n",
            "_________________________________________________________________\n",
            "conv2d_3 (Conv2D)            (None, 14, 14, 128)       147584    \n",
            "_________________________________________________________________\n",
            "batch_normalization_3 (Batch (None, 14, 14, 128)       512       \n",
            "_________________________________________________________________\n",
            "max_pooling2d_1 (MaxPooling2 (None, 7, 7, 128)         0         \n",
            "_________________________________________________________________\n",
            "dropout_1 (Dropout)          (None, 7, 7, 128)         0         \n",
            "_________________________________________________________________\n",
            "conv2d_4 (Conv2D)            (None, 7, 7, 256)         295168    \n",
            "_________________________________________________________________\n",
            "batch_normalization_4 (Batch (None, 7, 7, 256)         1024      \n",
            "_________________________________________________________________\n",
            "conv2d_5 (Conv2D)            (None, 7, 7, 256)         590080    \n",
            "_________________________________________________________________\n",
            "batch_normalization_5 (Batch (None, 7, 7, 256)         1024      \n",
            "_________________________________________________________________\n",
            "max_pooling2d_2 (MaxPooling2 (None, 3, 3, 256)         0         \n",
            "_________________________________________________________________\n",
            "dropout_2 (Dropout)          (None, 3, 3, 256)         0         \n",
            "_________________________________________________________________\n",
            "flatten (Flatten)            (None, 2304)              0         \n",
            "_________________________________________________________________\n",
            "dense (Dense)                (None, 2048)              4720640   \n",
            "_________________________________________________________________\n",
            "dropout_3 (Dropout)          (None, 2048)              0         \n",
            "_________________________________________________________________\n",
            "dense_1 (Dense)              (None, 512)               1049088   \n",
            "_________________________________________________________________\n",
            "dense_2 (Dense)              (None, 10)                5130      \n",
            "=================================================================\n",
            "Total params: 6,922,698\n",
            "Trainable params: 6,920,906\n",
            "Non-trainable params: 1,792\n",
            "_________________________________________________________________\n"
          ],
          "name": "stdout"
        }
      ]
    },
    {
      "cell_type": "code",
      "metadata": {
        "id": "M0kUefac7tuS"
      },
      "source": [
        "model.compile(optimizer='adam', loss='categorical_crossentropy', metrics=['accuracy'])"
      ],
      "execution_count": null,
      "outputs": []
    },
    {
      "cell_type": "code",
      "metadata": {
        "colab": {
          "base_uri": "https://localhost:8080/"
        },
        "id": "wEm_0U7OCsfH",
        "outputId": "3a269140-b751-44a1-9e84-9dd6b5cdb901"
      },
      "source": [
        "early_stopping = EarlyStopping(monitor='val_accuracy', patience=7, verbose=1)\n",
        "model.fit_generator(augmentation_generator.flow(Train_images, Train_labels, batch_size= 30), epochs = 50, verbose=1, validation_data=(val_images, val_labels), callbacks= early_stopping)"
      ],
      "execution_count": null,
      "outputs": [
        {
          "output_type": "stream",
          "text": [
            "/usr/local/lib/python3.7/dist-packages/keras/engine/training.py:1915: UserWarning: `Model.fit_generator` is deprecated and will be removed in a future version. Please use `Model.fit`, which supports generators.\n",
            "  warnings.warn('`Model.fit_generator` is deprecated and '\n"
          ],
          "name": "stderr"
        },
        {
          "output_type": "stream",
          "text": [
            "Epoch 1/50\n",
            "1600/1600 [==============================] - 71s 16ms/step - loss: 1.1760 - accuracy: 0.6309 - val_loss: 0.4683 - val_accuracy: 0.8162\n",
            "Epoch 2/50\n",
            "1600/1600 [==============================] - 23s 14ms/step - loss: 0.5758 - accuracy: 0.7883 - val_loss: 0.4751 - val_accuracy: 0.8247\n",
            "Epoch 3/50\n",
            "1600/1600 [==============================] - 23s 14ms/step - loss: 0.4966 - accuracy: 0.8188 - val_loss: 0.4381 - val_accuracy: 0.8396\n",
            "Epoch 4/50\n",
            "1600/1600 [==============================] - 23s 14ms/step - loss: 0.4503 - accuracy: 0.8365 - val_loss: 0.3751 - val_accuracy: 0.8658\n",
            "Epoch 5/50\n",
            "1600/1600 [==============================] - 23s 14ms/step - loss: 0.4067 - accuracy: 0.8543 - val_loss: 0.3587 - val_accuracy: 0.8712\n",
            "Epoch 6/50\n",
            "1600/1600 [==============================] - 23s 14ms/step - loss: 0.3919 - accuracy: 0.8585 - val_loss: 0.3458 - val_accuracy: 0.8734\n",
            "Epoch 7/50\n",
            "1600/1600 [==============================] - 23s 14ms/step - loss: 0.3810 - accuracy: 0.8626 - val_loss: 0.3476 - val_accuracy: 0.8729\n",
            "Epoch 8/50\n",
            "1600/1600 [==============================] - 23s 14ms/step - loss: 0.3663 - accuracy: 0.8659 - val_loss: 0.3632 - val_accuracy: 0.8660\n",
            "Epoch 9/50\n",
            "1600/1600 [==============================] - 23s 14ms/step - loss: 0.3514 - accuracy: 0.8718 - val_loss: 0.3006 - val_accuracy: 0.8886\n",
            "Epoch 10/50\n",
            "1600/1600 [==============================] - 23s 14ms/step - loss: 0.3484 - accuracy: 0.8740 - val_loss: 0.3040 - val_accuracy: 0.8928\n",
            "Epoch 11/50\n",
            "1600/1600 [==============================] - 23s 15ms/step - loss: 0.3296 - accuracy: 0.8819 - val_loss: 0.2850 - val_accuracy: 0.8960\n",
            "Epoch 12/50\n",
            "1600/1600 [==============================] - 23s 14ms/step - loss: 0.3336 - accuracy: 0.8811 - val_loss: 0.3238 - val_accuracy: 0.8886\n",
            "Epoch 13/50\n",
            "1600/1600 [==============================] - 23s 14ms/step - loss: 0.3164 - accuracy: 0.8853 - val_loss: 0.3345 - val_accuracy: 0.8760\n",
            "Epoch 14/50\n",
            "1600/1600 [==============================] - 23s 14ms/step - loss: 0.3111 - accuracy: 0.8883 - val_loss: 0.3156 - val_accuracy: 0.8844\n",
            "Epoch 15/50\n",
            "1600/1600 [==============================] - 23s 14ms/step - loss: 0.3049 - accuracy: 0.8895 - val_loss: 0.3012 - val_accuracy: 0.8896\n",
            "Epoch 16/50\n",
            "1600/1600 [==============================] - 23s 14ms/step - loss: 0.3053 - accuracy: 0.8887 - val_loss: 0.3429 - val_accuracy: 0.8790\n",
            "Epoch 17/50\n",
            "1600/1600 [==============================] - 23s 14ms/step - loss: 0.2947 - accuracy: 0.8938 - val_loss: 0.2716 - val_accuracy: 0.9022\n",
            "Epoch 18/50\n",
            "1600/1600 [==============================] - 23s 14ms/step - loss: 0.2937 - accuracy: 0.8962 - val_loss: 0.3058 - val_accuracy: 0.8892\n",
            "Epoch 19/50\n",
            "1600/1600 [==============================] - 23s 14ms/step - loss: 0.2848 - accuracy: 0.8965 - val_loss: 0.3124 - val_accuracy: 0.8934\n",
            "Epoch 20/50\n",
            "1600/1600 [==============================] - 23s 14ms/step - loss: 0.2787 - accuracy: 0.8998 - val_loss: 0.2573 - val_accuracy: 0.9101\n",
            "Epoch 21/50\n",
            "1600/1600 [==============================] - 23s 14ms/step - loss: 0.2836 - accuracy: 0.8986 - val_loss: 0.2666 - val_accuracy: 0.9047\n",
            "Epoch 22/50\n",
            "1600/1600 [==============================] - 23s 14ms/step - loss: 0.2786 - accuracy: 0.8988 - val_loss: 0.3067 - val_accuracy: 0.8929\n",
            "Epoch 23/50\n",
            "1600/1600 [==============================] - 23s 14ms/step - loss: 0.2766 - accuracy: 0.9024 - val_loss: 0.2987 - val_accuracy: 0.9011\n",
            "Epoch 24/50\n",
            "1600/1600 [==============================] - 23s 14ms/step - loss: 0.2643 - accuracy: 0.9038 - val_loss: 0.3065 - val_accuracy: 0.9007\n",
            "Epoch 25/50\n",
            "1600/1600 [==============================] - 23s 14ms/step - loss: 0.2686 - accuracy: 0.9032 - val_loss: 0.2696 - val_accuracy: 0.9028\n",
            "Epoch 26/50\n",
            "1600/1600 [==============================] - 23s 14ms/step - loss: 0.2607 - accuracy: 0.9037 - val_loss: 0.2505 - val_accuracy: 0.9112\n",
            "Epoch 27/50\n",
            "1600/1600 [==============================] - 23s 14ms/step - loss: 0.2697 - accuracy: 0.9014 - val_loss: 0.2818 - val_accuracy: 0.9003\n",
            "Epoch 28/50\n",
            "1600/1600 [==============================] - 23s 14ms/step - loss: 0.2617 - accuracy: 0.9049 - val_loss: 0.2826 - val_accuracy: 0.8979\n",
            "Epoch 29/50\n",
            "1600/1600 [==============================] - 23s 14ms/step - loss: 0.2604 - accuracy: 0.9072 - val_loss: 0.3143 - val_accuracy: 0.8893\n",
            "Epoch 30/50\n",
            "1600/1600 [==============================] - 23s 14ms/step - loss: 0.2581 - accuracy: 0.9058 - val_loss: 0.2414 - val_accuracy: 0.9171\n",
            "Epoch 31/50\n",
            "1600/1600 [==============================] - 23s 14ms/step - loss: 0.2679 - accuracy: 0.9044 - val_loss: 0.2796 - val_accuracy: 0.9116\n",
            "Epoch 32/50\n",
            "1600/1600 [==============================] - 23s 14ms/step - loss: 0.2522 - accuracy: 0.9082 - val_loss: 0.2592 - val_accuracy: 0.9036\n",
            "Epoch 33/50\n",
            "1600/1600 [==============================] - 23s 14ms/step - loss: 0.2518 - accuracy: 0.9082 - val_loss: 0.2830 - val_accuracy: 0.9047\n",
            "Epoch 34/50\n",
            "1600/1600 [==============================] - 23s 14ms/step - loss: 0.2426 - accuracy: 0.9123 - val_loss: 0.2376 - val_accuracy: 0.9188\n",
            "Epoch 35/50\n",
            "1600/1600 [==============================] - 23s 14ms/step - loss: 0.2535 - accuracy: 0.9080 - val_loss: 0.2675 - val_accuracy: 0.9097\n",
            "Epoch 36/50\n",
            "1600/1600 [==============================] - 23s 14ms/step - loss: 0.2447 - accuracy: 0.9120 - val_loss: 0.2817 - val_accuracy: 0.9047\n",
            "Epoch 37/50\n",
            "1600/1600 [==============================] - 22s 14ms/step - loss: 0.2492 - accuracy: 0.9079 - val_loss: 0.2402 - val_accuracy: 0.9199\n",
            "Epoch 38/50\n",
            "1600/1600 [==============================] - 23s 14ms/step - loss: 0.2373 - accuracy: 0.9132 - val_loss: 0.2906 - val_accuracy: 0.8996\n",
            "Epoch 39/50\n",
            "1600/1600 [==============================] - 23s 14ms/step - loss: 0.2447 - accuracy: 0.9117 - val_loss: 0.2786 - val_accuracy: 0.9044\n",
            "Epoch 40/50\n",
            "1600/1600 [==============================] - 23s 14ms/step - loss: 0.2384 - accuracy: 0.9109 - val_loss: 0.2254 - val_accuracy: 0.9193\n",
            "Epoch 41/50\n",
            "1600/1600 [==============================] - 23s 14ms/step - loss: 0.2427 - accuracy: 0.9137 - val_loss: 0.3066 - val_accuracy: 0.8956\n",
            "Epoch 42/50\n",
            "1600/1600 [==============================] - 23s 14ms/step - loss: 0.2431 - accuracy: 0.9129 - val_loss: 0.2444 - val_accuracy: 0.9168\n",
            "Epoch 43/50\n",
            "1600/1600 [==============================] - 23s 14ms/step - loss: 0.2399 - accuracy: 0.9153 - val_loss: 0.2700 - val_accuracy: 0.9077\n",
            "Epoch 44/50\n",
            "1600/1600 [==============================] - 23s 14ms/step - loss: 0.2440 - accuracy: 0.9124 - val_loss: 0.2765 - val_accuracy: 0.9070\n",
            "Epoch 00044: early stopping\n"
          ],
          "name": "stdout"
        },
        {
          "output_type": "execute_result",
          "data": {
            "text/plain": [
              "<keras.callbacks.History at 0x7f3044031bd0>"
            ]
          },
          "metadata": {
            "tags": []
          },
          "execution_count": 13
        }
      ]
    },
    {
      "cell_type": "code",
      "metadata": {
        "colab": {
          "base_uri": "https://localhost:8080/"
        },
        "id": "jYPv_UfZ7yQ3",
        "outputId": "5e9c0c0d-f283-4e30-93e6-1bce53bf1933"
      },
      "source": [
        "early_stopping = EarlyStopping(monitor='val_accuracy', patience=7, verbose=1)\n",
        "model.fit(Train_images, Train_labels, validation_data=(val_images, val_labels), epochs=40, batch_size = 30, callbacks= early_stopping, verbose = 1)\n",
        "\n",
        "prob_pred = model.predict(test_images)\n",
        "prob_label = prob_pred.argmax(axis=-1)\n",
        "\n",
        "np.savetxt('y_pred.csv', prob_label,fmt='%d')"
      ],
      "execution_count": null,
      "outputs": [
        {
          "output_type": "stream",
          "text": [
            "Epoch 1/40\n",
            "1600/1600 [==============================] - 20s 12ms/step - loss: 0.1647 - accuracy: 0.9406 - val_loss: 0.1600 - val_accuracy: 0.9444\n",
            "Epoch 2/40\n",
            "1600/1600 [==============================] - 18s 11ms/step - loss: 0.1491 - accuracy: 0.9460 - val_loss: 0.1502 - val_accuracy: 0.9470\n",
            "Epoch 3/40\n",
            "1600/1600 [==============================] - 18s 11ms/step - loss: 0.1387 - accuracy: 0.9490 - val_loss: 0.1563 - val_accuracy: 0.9461\n",
            "Epoch 4/40\n",
            "1600/1600 [==============================] - 17s 11ms/step - loss: 0.1302 - accuracy: 0.9531 - val_loss: 0.1701 - val_accuracy: 0.9389\n",
            "Epoch 5/40\n",
            "1600/1600 [==============================] - 17s 11ms/step - loss: 0.1188 - accuracy: 0.9565 - val_loss: 0.1706 - val_accuracy: 0.9442\n",
            "Epoch 6/40\n",
            "1600/1600 [==============================] - 17s 11ms/step - loss: 0.1144 - accuracy: 0.9576 - val_loss: 0.1654 - val_accuracy: 0.9457\n",
            "Epoch 7/40\n",
            "1600/1600 [==============================] - 17s 11ms/step - loss: 0.1073 - accuracy: 0.9610 - val_loss: 0.1638 - val_accuracy: 0.9471\n",
            "Epoch 8/40\n",
            "1600/1600 [==============================] - 17s 11ms/step - loss: 0.1009 - accuracy: 0.9629 - val_loss: 0.1866 - val_accuracy: 0.9472\n",
            "Epoch 9/40\n",
            "1600/1600 [==============================] - 17s 11ms/step - loss: 0.1023 - accuracy: 0.9625 - val_loss: 0.1685 - val_accuracy: 0.9467\n",
            "Epoch 10/40\n",
            "1600/1600 [==============================] - 17s 11ms/step - loss: 0.0942 - accuracy: 0.9659 - val_loss: 0.1710 - val_accuracy: 0.9487\n",
            "Epoch 11/40\n",
            "1600/1600 [==============================] - 17s 11ms/step - loss: 0.0888 - accuracy: 0.9675 - val_loss: 0.1835 - val_accuracy: 0.9482\n",
            "Epoch 12/40\n",
            "1600/1600 [==============================] - 17s 11ms/step - loss: 0.0881 - accuracy: 0.9688 - val_loss: 0.1855 - val_accuracy: 0.9488\n",
            "Epoch 13/40\n",
            "1600/1600 [==============================] - 17s 11ms/step - loss: 0.0843 - accuracy: 0.9708 - val_loss: 0.2037 - val_accuracy: 0.9450\n",
            "Epoch 14/40\n",
            "1600/1600 [==============================] - 17s 11ms/step - loss: 0.0799 - accuracy: 0.9712 - val_loss: 0.1869 - val_accuracy: 0.9492\n",
            "Epoch 15/40\n",
            "1600/1600 [==============================] - 17s 11ms/step - loss: 0.0778 - accuracy: 0.9724 - val_loss: 0.2156 - val_accuracy: 0.9468\n",
            "Epoch 16/40\n",
            "1600/1600 [==============================] - 18s 11ms/step - loss: 0.0764 - accuracy: 0.9724 - val_loss: 0.2096 - val_accuracy: 0.9472\n",
            "Epoch 17/40\n",
            "1600/1600 [==============================] - 17s 11ms/step - loss: 0.0755 - accuracy: 0.9735 - val_loss: 0.1834 - val_accuracy: 0.9487\n",
            "Epoch 18/40\n",
            "1600/1600 [==============================] - 17s 11ms/step - loss: 0.0726 - accuracy: 0.9745 - val_loss: 0.1999 - val_accuracy: 0.9512\n",
            "Epoch 19/40\n",
            "1600/1600 [==============================] - 18s 11ms/step - loss: 0.0702 - accuracy: 0.9758 - val_loss: 0.1894 - val_accuracy: 0.9500\n",
            "Epoch 20/40\n",
            "1600/1600 [==============================] - 18s 11ms/step - loss: 0.0677 - accuracy: 0.9761 - val_loss: 0.2264 - val_accuracy: 0.9392\n",
            "Epoch 21/40\n",
            "1600/1600 [==============================] - 17s 11ms/step - loss: 0.0653 - accuracy: 0.9759 - val_loss: 0.1953 - val_accuracy: 0.9484\n",
            "Epoch 22/40\n",
            "1600/1600 [==============================] - 17s 11ms/step - loss: 0.0623 - accuracy: 0.9783 - val_loss: 0.2025 - val_accuracy: 0.9449\n",
            "Epoch 23/40\n",
            "1600/1600 [==============================] - 17s 11ms/step - loss: 0.0646 - accuracy: 0.9781 - val_loss: 0.1923 - val_accuracy: 0.9502\n",
            "Epoch 24/40\n",
            "1600/1600 [==============================] - 17s 11ms/step - loss: 0.0616 - accuracy: 0.9782 - val_loss: 0.2086 - val_accuracy: 0.9473\n",
            "Epoch 25/40\n",
            "1600/1600 [==============================] - 18s 11ms/step - loss: 0.0632 - accuracy: 0.9787 - val_loss: 0.1931 - val_accuracy: 0.9490\n",
            "Epoch 00025: early stopping\n"
          ],
          "name": "stdout"
        }
      ]
    }
  ]
}